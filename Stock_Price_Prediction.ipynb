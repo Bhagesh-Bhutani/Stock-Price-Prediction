{
 "cells": [
  {
   "cell_type": "code",
   "execution_count": 272,
   "metadata": {},
   "outputs": [],
   "source": [
    "import numpy as np\n",
    "import pandas as pd\n",
    "import matplotlib.pyplot as plt\n",
    "from keras.layers import *\n",
    "from keras.models import Sequential\n",
    "from keras.callbacks.callbacks import ModelCheckpoint\n",
    "from sklearn.preprocessing import MinMaxScaler\n",
    "from keras.optimizers import adam"
   ]
  },
  {
   "cell_type": "code",
   "execution_count": 273,
   "metadata": {},
   "outputs": [],
   "source": [
    "XT=pd.read_csv(\"x_train.csv\")\n",
    "YT=pd.read_csv(\"y_train.csv\")"
   ]
  },
  {
   "cell_type": "code",
   "execution_count": 274,
   "metadata": {},
   "outputs": [
    {
     "data": {
      "text/plain": [
       "(1257, 1)"
      ]
     },
     "execution_count": 274,
     "metadata": {},
     "output_type": "execute_result"
    }
   ],
   "source": [
    "XT.shape"
   ]
  },
  {
   "cell_type": "code",
   "execution_count": 275,
   "metadata": {},
   "outputs": [
    {
     "data": {
      "text/plain": [
       "(1257, 1)"
      ]
     },
     "execution_count": 275,
     "metadata": {},
     "output_type": "execute_result"
    }
   ],
   "source": [
    "YT.shape"
   ]
  },
  {
   "cell_type": "code",
   "execution_count": 321,
   "metadata": {},
   "outputs": [],
   "source": [
    "Xt=pd.read_csv(\"x_test.csv\")"
   ]
  },
  {
   "cell_type": "code",
   "execution_count": 277,
   "metadata": {},
   "outputs": [
    {
     "data": {
      "text/plain": [
       "(19, 1)"
      ]
     },
     "execution_count": 277,
     "metadata": {},
     "output_type": "execute_result"
    }
   ],
   "source": [
    "Xt.shape"
   ]
  },
  {
   "cell_type": "code",
   "execution_count": 278,
   "metadata": {},
   "outputs": [],
   "source": [
    "sc=MinMaxScaler(feature_range=(0,1))"
   ]
  },
  {
   "cell_type": "code",
   "execution_count": 279,
   "metadata": {},
   "outputs": [],
   "source": [
    "XT=sc.fit_transform(XT)\n",
    "YT=sc.transform(YT)"
   ]
  },
  {
   "cell_type": "code",
   "execution_count": 280,
   "metadata": {},
   "outputs": [],
   "source": [
    "XT=np.array(XT)"
   ]
  },
  {
   "cell_type": "code",
   "execution_count": 281,
   "metadata": {},
   "outputs": [],
   "source": [
    "XT=XT.reshape(XT.shape[0],XT.shape[1],1)"
   ]
  },
  {
   "cell_type": "code",
   "execution_count": 310,
   "metadata": {},
   "outputs": [
    {
     "name": "stdout",
     "output_type": "stream",
     "text": [
      "Model: \"sequential_27\"\n",
      "_________________________________________________________________\n",
      "Layer (type)                 Output Shape              Param #   \n",
      "=================================================================\n",
      "lstm_43 (LSTM)               (None, 64)                16896     \n",
      "_________________________________________________________________\n",
      "dense_26 (Dense)             (None, 1)                 65        \n",
      "=================================================================\n",
      "Total params: 16,961\n",
      "Trainable params: 16,961\n",
      "Non-trainable params: 0\n",
      "_________________________________________________________________\n"
     ]
    }
   ],
   "source": [
    "model = Sequential()\n",
    "\n",
    "\n",
    "model.add(LSTM(64,input_shape = (1, 1)))\n",
    "\n",
    "model.add(Dense(1))\n",
    "\n",
    "\n",
    "model.compile(optimizer ='adam', loss = 'mean_squared_error', metrics= ['accuracy'])\n",
    "\n",
    "model.summary()"
   ]
  },
  {
   "cell_type": "code",
   "execution_count": 311,
   "metadata": {},
   "outputs": [],
   "source": [
    "checkpoint=ModelCheckpoint(\"model.h5\",monitor='loss',save_best_only=True)"
   ]
  },
  {
   "cell_type": "code",
   "execution_count": 312,
   "metadata": {},
   "outputs": [
    {
     "name": "stdout",
     "output_type": "stream",
     "text": [
      "Epoch 1/200\n",
      "1257/1257 [==============================] - 1s 699us/step - loss: 0.2259 - accuracy: 7.9554e-04\n",
      "Epoch 2/200\n",
      "1257/1257 [==============================] - 0s 100us/step - loss: 0.0804 - accuracy: 7.9554e-04\n",
      "Epoch 3/200\n",
      "1257/1257 [==============================] - 0s 102us/step - loss: 0.0326 - accuracy: 0.0016\n",
      "Epoch 4/200\n",
      "1257/1257 [==============================] - 0s 108us/step - loss: 0.0248 - accuracy: 0.0016\n",
      "Epoch 5/200\n",
      "1257/1257 [==============================] - 0s 92us/step - loss: 0.0190 - accuracy: 0.0016\n",
      "Epoch 6/200\n",
      "1257/1257 [==============================] - 0s 127us/step - loss: 0.0137 - accuracy: 0.0016\n",
      "Epoch 7/200\n",
      "1257/1257 [==============================] - 0s 117us/step - loss: 0.0091 - accuracy: 0.0016\n",
      "Epoch 8/200\n",
      "1257/1257 [==============================] - 0s 121us/step - loss: 0.0056 - accuracy: 0.0016\n",
      "Epoch 9/200\n",
      "1257/1257 [==============================] - 0s 118us/step - loss: 0.0031 - accuracy: 0.0016\n",
      "Epoch 10/200\n",
      "1257/1257 [==============================] - 0s 111us/step - loss: 0.0016 - accuracy: 0.0016\n",
      "Epoch 11/200\n",
      "1257/1257 [==============================] - 0s 124us/step - loss: 8.5088e-04 - accuracy: 0.0016\n",
      "Epoch 12/200\n",
      "1257/1257 [==============================] - 0s 127us/step - loss: 5.2727e-04 - accuracy: 0.0016\n",
      "Epoch 13/200\n",
      "1257/1257 [==============================] - 0s 121us/step - loss: 4.1172e-04 - accuracy: 0.0016\n",
      "Epoch 14/200\n",
      "1257/1257 [==============================] - 0s 123us/step - loss: 3.7590e-04 - accuracy: 0.0016\n",
      "Epoch 15/200\n",
      "1257/1257 [==============================] - 0s 121us/step - loss: 3.6326e-04 - accuracy: 0.0016\n",
      "Epoch 16/200\n",
      "1257/1257 [==============================] - 0s 121us/step - loss: 3.5937e-04 - accuracy: 0.0016\n",
      "Epoch 17/200\n",
      "1257/1257 [==============================] - 0s 127us/step - loss: 3.5707e-04 - accuracy: 0.0016\n",
      "Epoch 18/200\n",
      "1257/1257 [==============================] - 0s 121us/step - loss: 3.5531e-04 - accuracy: 0.0016\n",
      "Epoch 19/200\n",
      "1257/1257 [==============================] - 0s 119us/step - loss: 3.5311e-04 - accuracy: 0.0016\n",
      "Epoch 20/200\n",
      "1257/1257 [==============================] - 0s 122us/step - loss: 3.4823e-04 - accuracy: 0.0016\n",
      "Epoch 21/200\n",
      "1257/1257 [==============================] - 0s 121us/step - loss: 3.4553e-04 - accuracy: 0.0016\n",
      "Epoch 22/200\n",
      "1257/1257 [==============================] - 0s 121us/step - loss: 3.4099e-04 - accuracy: 0.0016\n",
      "Epoch 23/200\n",
      "1257/1257 [==============================] - 0s 121us/step - loss: 3.3903e-04 - accuracy: 0.0016\n",
      "Epoch 24/200\n",
      "1257/1257 [==============================] - 0s 124us/step - loss: 3.3617e-04 - accuracy: 0.0016\n",
      "Epoch 25/200\n",
      "1257/1257 [==============================] - 0s 115us/step - loss: 3.3166e-04 - accuracy: 0.0016\n",
      "Epoch 26/200\n",
      "1257/1257 [==============================] - 0s 121us/step - loss: 3.2957e-04 - accuracy: 0.0016\n",
      "Epoch 27/200\n",
      "1257/1257 [==============================] - 0s 121us/step - loss: 3.2629e-04 - accuracy: 0.0016\n",
      "Epoch 28/200\n",
      "1257/1257 [==============================] - 0s 121us/step - loss: 3.2157e-04 - accuracy: 0.0016\n",
      "Epoch 29/200\n",
      "1257/1257 [==============================] - 0s 122us/step - loss: 3.1826e-04 - accuracy: 0.0016\n",
      "Epoch 30/200\n",
      "1257/1257 [==============================] - 0s 124us/step - loss: 3.1527e-04 - accuracy: 0.0016\n",
      "Epoch 31/200\n",
      "1257/1257 [==============================] - 0s 130us/step - loss: 3.1273e-04 - accuracy: 0.0016\n",
      "Epoch 32/200\n",
      "1257/1257 [==============================] - 0s 121us/step - loss: 3.0991e-04 - accuracy: 0.0016\n",
      "Epoch 33/200\n",
      "1257/1257 [==============================] - 0s 124us/step - loss: 3.0404e-04 - accuracy: 0.0016\n",
      "Epoch 34/200\n",
      "1257/1257 [==============================] - 0s 124us/step - loss: 3.0764e-04 - accuracy: 0.0016\n",
      "Epoch 35/200\n",
      "1257/1257 [==============================] - 0s 121us/step - loss: 2.9849e-04 - accuracy: 0.0016\n",
      "Epoch 36/200\n",
      "1257/1257 [==============================] - 0s 118us/step - loss: 2.9417e-04 - accuracy: 0.0016\n",
      "Epoch 37/200\n",
      "1257/1257 [==============================] - 0s 113us/step - loss: 2.9194e-04 - accuracy: 0.0016\n",
      "Epoch 38/200\n",
      "1257/1257 [==============================] - 0s 118us/step - loss: 2.9006e-04 - accuracy: 0.0016\n",
      "Epoch 39/200\n",
      "1257/1257 [==============================] - 0s 121us/step - loss: 2.9224e-04 - accuracy: 0.0016\n",
      "Epoch 40/200\n",
      "1257/1257 [==============================] - 0s 118us/step - loss: 2.8148e-04 - accuracy: 0.0016\n",
      "Epoch 41/200\n",
      "1257/1257 [==============================] - 0s 121us/step - loss: 2.8124e-04 - accuracy: 0.0016\n",
      "Epoch 42/200\n",
      "1257/1257 [==============================] - 0s 118us/step - loss: 2.7419e-04 - accuracy: 0.0016\n",
      "Epoch 43/200\n",
      "1257/1257 [==============================] - 0s 121us/step - loss: 2.7282e-04 - accuracy: 0.0016\n",
      "Epoch 44/200\n",
      "1257/1257 [==============================] - 0s 120us/step - loss: 2.7024e-04 - accuracy: 0.0016\n",
      "Epoch 45/200\n",
      "1257/1257 [==============================] - 0s 121us/step - loss: 2.6623e-04 - accuracy: 0.0016\n",
      "Epoch 46/200\n",
      "1257/1257 [==============================] - 0s 121us/step - loss: 2.6354e-04 - accuracy: 0.0016\n",
      "Epoch 47/200\n",
      "1257/1257 [==============================] - 0s 121us/step - loss: 2.6057e-04 - accuracy: 0.0016\n",
      "Epoch 48/200\n",
      "1257/1257 [==============================] - 0s 121us/step - loss: 2.5567e-04 - accuracy: 0.0016\n",
      "Epoch 49/200\n",
      "1257/1257 [==============================] - 0s 118us/step - loss: 2.5408e-04 - accuracy: 0.0016\n",
      "Epoch 50/200\n",
      "1257/1257 [==============================] - 0s 134us/step - loss: 2.5148e-04 - accuracy: 0.0016\n",
      "Epoch 51/200\n",
      "1257/1257 [==============================] - 0s 121us/step - loss: 2.4917e-04 - accuracy: 0.0016\n",
      "Epoch 52/200\n",
      "1257/1257 [==============================] - 0s 118us/step - loss: 2.4411e-04 - accuracy: 0.0016\n",
      "Epoch 53/200\n",
      "1257/1257 [==============================] - 0s 127us/step - loss: 2.4277e-04 - accuracy: 0.0016\n",
      "Epoch 54/200\n",
      "1257/1257 [==============================] - 0s 127us/step - loss: 2.4380e-04 - accuracy: 0.0016\n",
      "Epoch 55/200\n",
      "1257/1257 [==============================] - 0s 124us/step - loss: 2.3892e-04 - accuracy: 0.0016\n",
      "Epoch 56/200\n",
      "1257/1257 [==============================] - 0s 124us/step - loss: 2.3560e-04 - accuracy: 0.0016\n",
      "Epoch 57/200\n",
      "1257/1257 [==============================] - 0s 121us/step - loss: 2.3105e-04 - accuracy: 0.0016\n",
      "Epoch 58/200\n",
      "1257/1257 [==============================] - 0s 130us/step - loss: 2.2856e-04 - accuracy: 0.0016\n",
      "Epoch 59/200\n",
      "1257/1257 [==============================] - 0s 121us/step - loss: 2.2760e-04 - accuracy: 0.0016\n",
      "Epoch 60/200\n",
      "1257/1257 [==============================] - 0s 127us/step - loss: 2.2552e-04 - accuracy: 0.0016\n",
      "Epoch 61/200\n",
      "1257/1257 [==============================] - 0s 130us/step - loss: 2.2386e-04 - accuracy: 0.0016\n",
      "Epoch 62/200\n",
      "1257/1257 [==============================] - 0s 134us/step - loss: 2.2124e-04 - accuracy: 0.0016\n",
      "Epoch 63/200\n",
      "1257/1257 [==============================] - 0s 124us/step - loss: 2.1837e-04 - accuracy: 0.0016\n",
      "Epoch 64/200\n",
      "1257/1257 [==============================] - 0s 121us/step - loss: 2.3005e-04 - accuracy: 0.0016\n",
      "Epoch 65/200\n",
      "1257/1257 [==============================] - 0s 118us/step - loss: 2.1526e-04 - accuracy: 0.0016\n",
      "Epoch 66/200\n",
      "1257/1257 [==============================] - 0s 121us/step - loss: 2.1489e-04 - accuracy: 0.0016\n",
      "Epoch 67/200\n",
      "1257/1257 [==============================] - 0s 124us/step - loss: 2.1277e-04 - accuracy: 0.0016\n",
      "Epoch 68/200\n",
      "1257/1257 [==============================] - 0s 124us/step - loss: 2.1497e-04 - accuracy: 0.0016\n",
      "Epoch 69/200\n",
      "1257/1257 [==============================] - 0s 134us/step - loss: 2.1697e-04 - accuracy: 0.0016\n",
      "Epoch 70/200\n",
      "1257/1257 [==============================] - 0s 121us/step - loss: 2.0957e-04 - accuracy: 0.0016\n",
      "Epoch 71/200\n",
      "1257/1257 [==============================] - 0s 121us/step - loss: 2.0739e-04 - accuracy: 0.0016\n",
      "Epoch 72/200\n",
      "1257/1257 [==============================] - 0s 124us/step - loss: 2.1387e-04 - accuracy: 0.0016\n",
      "Epoch 73/200\n",
      "1257/1257 [==============================] - 0s 121us/step - loss: 2.0884e-04 - accuracy: 0.0016\n",
      "Epoch 74/200\n",
      "1257/1257 [==============================] - 0s 130us/step - loss: 2.0874e-04 - accuracy: 0.0016\n",
      "Epoch 75/200\n"
     ]
    },
    {
     "name": "stdout",
     "output_type": "stream",
     "text": [
      "1257/1257 [==============================] - 0s 130us/step - loss: 2.0660e-04 - accuracy: 0.0016\n",
      "Epoch 76/200\n",
      "1257/1257 [==============================] - 0s 127us/step - loss: 2.0440e-04 - accuracy: 0.0016\n",
      "Epoch 77/200\n",
      "1257/1257 [==============================] - 0s 118us/step - loss: 2.0606e-04 - accuracy: 0.0016\n",
      "Epoch 78/200\n",
      "1257/1257 [==============================] - 0s 121us/step - loss: 2.0912e-04 - accuracy: 0.0016\n",
      "Epoch 79/200\n",
      "1257/1257 [==============================] - 0s 127us/step - loss: 2.0293e-04 - accuracy: 0.0016\n",
      "Epoch 80/200\n",
      "1257/1257 [==============================] - 0s 124us/step - loss: 2.0626e-04 - accuracy: 0.0016\n",
      "Epoch 81/200\n",
      "1257/1257 [==============================] - 0s 130us/step - loss: 2.0287e-04 - accuracy: 0.0016\n",
      "Epoch 82/200\n",
      "1257/1257 [==============================] - 0s 118us/step - loss: 2.0553e-04 - accuracy: 0.0016\n",
      "Epoch 83/200\n",
      "1257/1257 [==============================] - 0s 118us/step - loss: 2.0379e-04 - accuracy: 0.0016\n",
      "Epoch 84/200\n",
      "1257/1257 [==============================] - 0s 121us/step - loss: 2.0862e-04 - accuracy: 0.0016\n",
      "Epoch 85/200\n",
      "1257/1257 [==============================] - 0s 121us/step - loss: 2.0191e-04 - accuracy: 0.0016\n",
      "Epoch 86/200\n",
      "1257/1257 [==============================] - 0s 121us/step - loss: 2.0038e-04 - accuracy: 0.0016\n",
      "Epoch 87/200\n",
      "1257/1257 [==============================] - 0s 119us/step - loss: 2.0248e-04 - accuracy: 0.0016\n",
      "Epoch 88/200\n",
      "1257/1257 [==============================] - 0s 116us/step - loss: 2.0017e-04 - accuracy: 0.0016\n",
      "Epoch 89/200\n",
      "1257/1257 [==============================] - 0s 118us/step - loss: 1.9807e-04 - accuracy: 0.0016\n",
      "Epoch 90/200\n",
      "1257/1257 [==============================] - 0s 115us/step - loss: 2.0591e-04 - accuracy: 0.0016\n",
      "Epoch 91/200\n",
      "1257/1257 [==============================] - 0s 111us/step - loss: 1.9990e-04 - accuracy: 0.0016\n",
      "Epoch 92/200\n",
      "1257/1257 [==============================] - 0s 115us/step - loss: 2.0821e-04 - accuracy: 0.0016\n",
      "Epoch 93/200\n",
      "1257/1257 [==============================] - 0s 118us/step - loss: 2.0072e-04 - accuracy: 0.0016\n",
      "Epoch 94/200\n",
      "1257/1257 [==============================] - 0s 121us/step - loss: 1.9738e-04 - accuracy: 0.0016\n",
      "Epoch 95/200\n",
      "1257/1257 [==============================] - 0s 112us/step - loss: 2.0083e-04 - accuracy: 0.0016\n",
      "Epoch 96/200\n",
      "1257/1257 [==============================] - 0s 118us/step - loss: 2.0806e-04 - accuracy: 0.0016\n",
      "Epoch 97/200\n",
      "1257/1257 [==============================] - 0s 111us/step - loss: 2.0087e-04 - accuracy: 0.0016\n",
      "Epoch 98/200\n",
      "1257/1257 [==============================] - 0s 118us/step - loss: 2.1075e-04 - accuracy: 0.0016\n",
      "Epoch 99/200\n",
      "1257/1257 [==============================] - 0s 121us/step - loss: 2.0338e-04 - accuracy: 0.0016\n",
      "Epoch 100/200\n",
      "1257/1257 [==============================] - 0s 118us/step - loss: 2.0267e-04 - accuracy: 0.0016\n",
      "Epoch 101/200\n",
      "1257/1257 [==============================] - 0s 118us/step - loss: 2.0026e-04 - accuracy: 0.0016\n",
      "Epoch 102/200\n",
      "1257/1257 [==============================] - 0s 116us/step - loss: 2.0831e-04 - accuracy: 0.0016\n",
      "Epoch 103/200\n",
      "1257/1257 [==============================] - 0s 118us/step - loss: 2.0314e-04 - accuracy: 0.0016\n",
      "Epoch 104/200\n",
      "1257/1257 [==============================] - 0s 117us/step - loss: 1.9884e-04 - accuracy: 0.0016\n",
      "Epoch 105/200\n",
      "1257/1257 [==============================] - 0s 114us/step - loss: 1.9914e-04 - accuracy: 0.0016\n",
      "Epoch 106/200\n",
      "1257/1257 [==============================] - 0s 118us/step - loss: 2.0000e-04 - accuracy: 0.0016\n",
      "Epoch 107/200\n",
      "1257/1257 [==============================] - 0s 116us/step - loss: 1.9823e-04 - accuracy: 0.0016\n",
      "Epoch 108/200\n",
      "1257/1257 [==============================] - 0s 115us/step - loss: 1.9949e-04 - accuracy: 0.0016\n",
      "Epoch 109/200\n",
      "1257/1257 [==============================] - 0s 116us/step - loss: 2.0068e-04 - accuracy: 0.0016\n",
      "Epoch 110/200\n",
      "1257/1257 [==============================] - 0s 118us/step - loss: 2.0081e-04 - accuracy: 0.0016\n",
      "Epoch 111/200\n",
      "1257/1257 [==============================] - 0s 124us/step - loss: 1.9960e-04 - accuracy: 0.0016\n",
      "Epoch 112/200\n",
      "1257/1257 [==============================] - 0s 118us/step - loss: 2.0873e-04 - accuracy: 0.0016\n",
      "Epoch 113/200\n",
      "1257/1257 [==============================] - 0s 121us/step - loss: 2.0537e-04 - accuracy: 0.0016\n",
      "Epoch 114/200\n",
      "1257/1257 [==============================] - 0s 118us/step - loss: 2.0509e-04 - accuracy: 0.0016\n",
      "Epoch 115/200\n",
      "1257/1257 [==============================] - 0s 118us/step - loss: 2.0000e-04 - accuracy: 0.0016\n",
      "Epoch 116/200\n",
      "1257/1257 [==============================] - 0s 116us/step - loss: 1.9804e-04 - accuracy: 0.0016\n",
      "Epoch 117/200\n",
      "1257/1257 [==============================] - 0s 118us/step - loss: 2.0320e-04 - accuracy: 0.0016\n",
      "Epoch 118/200\n",
      "1257/1257 [==============================] - 0s 118us/step - loss: 2.0767e-04 - accuracy: 0.0016\n",
      "Epoch 119/200\n",
      "1257/1257 [==============================] - 0s 117us/step - loss: 2.1104e-04 - accuracy: 0.0016\n",
      "Epoch 120/200\n",
      "1257/1257 [==============================] - 0s 118us/step - loss: 2.0440e-04 - accuracy: 0.0016\n",
      "Epoch 121/200\n",
      "1257/1257 [==============================] - 0s 121us/step - loss: 2.1515e-04 - accuracy: 0.0016\n",
      "Epoch 122/200\n",
      "1257/1257 [==============================] - 0s 118us/step - loss: 2.0587e-04 - accuracy: 0.0016\n",
      "Epoch 123/200\n",
      "1257/1257 [==============================] - 0s 118us/step - loss: 2.0045e-04 - accuracy: 0.0016\n",
      "Epoch 124/200\n",
      "1257/1257 [==============================] - 0s 118us/step - loss: 2.0255e-04 - accuracy: 0.0016\n",
      "Epoch 125/200\n",
      "1257/1257 [==============================] - 0s 115us/step - loss: 2.0586e-04 - accuracy: 0.0016\n",
      "Epoch 126/200\n",
      "1257/1257 [==============================] - 0s 118us/step - loss: 1.9860e-04 - accuracy: 0.0016\n",
      "Epoch 127/200\n",
      "1257/1257 [==============================] - 0s 118us/step - loss: 1.9928e-04 - accuracy: 0.0016\n",
      "Epoch 128/200\n",
      "1257/1257 [==============================] - 0s 117us/step - loss: 1.9936e-04 - accuracy: 0.0016\n",
      "Epoch 129/200\n",
      "1257/1257 [==============================] - 0s 118us/step - loss: 2.0013e-04 - accuracy: 0.0016\n",
      "Epoch 130/200\n",
      "1257/1257 [==============================] - 0s 123us/step - loss: 2.0461e-04 - accuracy: 0.0016\n",
      "Epoch 131/200\n",
      "1257/1257 [==============================] - 0s 118us/step - loss: 2.0446e-04 - accuracy: 0.0016\n",
      "Epoch 132/200\n",
      "1257/1257 [==============================] - 0s 121us/step - loss: 2.0458e-04 - accuracy: 0.0016\n",
      "Epoch 133/200\n",
      "1257/1257 [==============================] - 0s 121us/step - loss: 2.0149e-04 - accuracy: 0.0016\n",
      "Epoch 134/200\n",
      "1257/1257 [==============================] - 0s 122us/step - loss: 2.0440e-04 - accuracy: 0.0016\n",
      "Epoch 135/200\n",
      "1257/1257 [==============================] - 0s 124us/step - loss: 2.0436e-04 - accuracy: 0.0016\n",
      "Epoch 136/200\n",
      "1257/1257 [==============================] - 0s 121us/step - loss: 2.0037e-04 - accuracy: 0.0016\n",
      "Epoch 137/200\n",
      "1257/1257 [==============================] - 0s 118us/step - loss: 1.9952e-04 - accuracy: 0.0016\n",
      "Epoch 138/200\n",
      "1257/1257 [==============================] - 0s 115us/step - loss: 2.0042e-04 - accuracy: 0.0016\n",
      "Epoch 139/200\n",
      "1257/1257 [==============================] - 0s 122us/step - loss: 2.0601e-04 - accuracy: 0.0016\n",
      "Epoch 140/200\n",
      "1257/1257 [==============================] - 0s 118us/step - loss: 2.1168e-04 - accuracy: 0.0016\n",
      "Epoch 141/200\n",
      "1257/1257 [==============================] - 0s 118us/step - loss: 2.0464e-04 - accuracy: 0.0016\n",
      "Epoch 142/200\n",
      "1257/1257 [==============================] - 0s 118us/step - loss: 2.0257e-04 - accuracy: 0.0016\n",
      "Epoch 143/200\n",
      "1257/1257 [==============================] - 0s 118us/step - loss: 2.0200e-04 - accuracy: 0.0016\n",
      "Epoch 144/200\n",
      "1257/1257 [==============================] - 0s 118us/step - loss: 2.0135e-04 - accuracy: 0.0016\n",
      "Epoch 145/200\n",
      "1257/1257 [==============================] - 0s 115us/step - loss: 2.0433e-04 - accuracy: 0.0016\n",
      "Epoch 146/200\n",
      "1257/1257 [==============================] - 0s 115us/step - loss: 2.0358e-04 - accuracy: 0.0016\n",
      "Epoch 147/200\n",
      "1257/1257 [==============================] - 0s 121us/step - loss: 2.0156e-04 - accuracy: 0.0016\n",
      "Epoch 148/200\n",
      "1257/1257 [==============================] - 0s 115us/step - loss: 2.0195e-04 - accuracy: 0.0016\n",
      "Epoch 149/200\n"
     ]
    },
    {
     "name": "stdout",
     "output_type": "stream",
     "text": [
      "1257/1257 [==============================] - 0s 118us/step - loss: 2.0670e-04 - accuracy: 0.0016\n",
      "Epoch 150/200\n",
      "1257/1257 [==============================] - 0s 115us/step - loss: 1.9996e-04 - accuracy: 0.0016\n",
      "Epoch 151/200\n",
      "1257/1257 [==============================] - 0s 115us/step - loss: 2.0894e-04 - accuracy: 0.0016\n",
      "Epoch 152/200\n",
      "1257/1257 [==============================] - 0s 118us/step - loss: 2.0297e-04 - accuracy: 0.0016\n",
      "Epoch 153/200\n",
      "1257/1257 [==============================] - 0s 115us/step - loss: 2.0058e-04 - accuracy: 0.0016\n",
      "Epoch 154/200\n",
      "1257/1257 [==============================] - 0s 118us/step - loss: 2.0770e-04 - accuracy: 0.0016\n",
      "Epoch 155/200\n",
      "1257/1257 [==============================] - 0s 118us/step - loss: 1.9867e-04 - accuracy: 0.0016\n",
      "Epoch 156/200\n",
      "1257/1257 [==============================] - 0s 121us/step - loss: 2.0593e-04 - accuracy: 0.0016\n",
      "Epoch 157/200\n",
      "1257/1257 [==============================] - 0s 111us/step - loss: 2.0987e-04 - accuracy: 0.0016\n",
      "Epoch 158/200\n",
      "1257/1257 [==============================] - 0s 114us/step - loss: 2.0760e-04 - accuracy: 0.0016\n",
      "Epoch 159/200\n",
      "1257/1257 [==============================] - 0s 118us/step - loss: 2.0440e-04 - accuracy: 0.0016\n",
      "Epoch 160/200\n",
      "1257/1257 [==============================] - 0s 117us/step - loss: 2.0325e-04 - accuracy: 0.0016\n",
      "Epoch 161/200\n",
      "1257/1257 [==============================] - 0s 114us/step - loss: 2.0169e-04 - accuracy: 0.0016\n",
      "Epoch 162/200\n",
      "1257/1257 [==============================] - 0s 119us/step - loss: 2.1639e-04 - accuracy: 0.0016\n",
      "Epoch 163/200\n",
      "1257/1257 [==============================] - 0s 114us/step - loss: 1.9955e-04 - accuracy: 0.0016\n",
      "Epoch 164/200\n",
      "1257/1257 [==============================] - 0s 118us/step - loss: 2.0524e-04 - accuracy: 0.0016\n",
      "Epoch 165/200\n",
      "1257/1257 [==============================] - 0s 118us/step - loss: 2.0198e-04 - accuracy: 0.0016\n",
      "Epoch 166/200\n",
      "1257/1257 [==============================] - 0s 115us/step - loss: 2.0395e-04 - accuracy: 0.0016\n",
      "Epoch 167/200\n",
      "1257/1257 [==============================] - 0s 118us/step - loss: 2.0315e-04 - accuracy: 0.0016\n",
      "Epoch 168/200\n",
      "1257/1257 [==============================] - 0s 118us/step - loss: 2.0582e-04 - accuracy: 0.0016\n",
      "Epoch 169/200\n",
      "1257/1257 [==============================] - 0s 118us/step - loss: 2.0813e-04 - accuracy: 0.0016\n",
      "Epoch 170/200\n",
      "1257/1257 [==============================] - 0s 118us/step - loss: 2.0484e-04 - accuracy: 0.0016\n",
      "Epoch 171/200\n",
      "1257/1257 [==============================] - 0s 115us/step - loss: 2.0346e-04 - accuracy: 0.0016\n",
      "Epoch 172/200\n",
      "1257/1257 [==============================] - 0s 118us/step - loss: 2.0556e-04 - accuracy: 0.0016\n",
      "Epoch 173/200\n",
      "1257/1257 [==============================] - 0s 118us/step - loss: 2.0653e-04 - accuracy: 0.0016\n",
      "Epoch 174/200\n",
      "1257/1257 [==============================] - 0s 118us/step - loss: 2.0389e-04 - accuracy: 0.0016\n",
      "Epoch 175/200\n",
      "1257/1257 [==============================] - 0s 118us/step - loss: 2.0132e-04 - accuracy: 0.0016\n",
      "Epoch 176/200\n",
      "1257/1257 [==============================] - 0s 118us/step - loss: 2.0124e-04 - accuracy: 0.0016\n",
      "Epoch 177/200\n",
      "1257/1257 [==============================] - 0s 115us/step - loss: 2.0239e-04 - accuracy: 0.0016\n",
      "Epoch 178/200\n",
      "1257/1257 [==============================] - 0s 118us/step - loss: 2.0557e-04 - accuracy: 0.0016\n",
      "Epoch 179/200\n",
      "1257/1257 [==============================] - 0s 118us/step - loss: 2.0023e-04 - accuracy: 0.0016\n",
      "Epoch 180/200\n",
      "1257/1257 [==============================] - 0s 115us/step - loss: 2.0097e-04 - accuracy: 0.0016\n",
      "Epoch 181/200\n",
      "1257/1257 [==============================] - 0s 121us/step - loss: 2.0217e-04 - accuracy: 0.0016\n",
      "Epoch 182/200\n",
      "1257/1257 [==============================] - 0s 124us/step - loss: 1.9885e-04 - accuracy: 0.0016\n",
      "Epoch 183/200\n",
      "1257/1257 [==============================] - 0s 127us/step - loss: 2.0350e-04 - accuracy: 0.0016\n",
      "Epoch 184/200\n",
      "1257/1257 [==============================] - 0s 124us/step - loss: 2.0663e-04 - accuracy: 0.0016\n",
      "Epoch 185/200\n",
      "1257/1257 [==============================] - 0s 115us/step - loss: 2.0362e-04 - accuracy: 0.0016\n",
      "Epoch 186/200\n",
      "1257/1257 [==============================] - 0s 121us/step - loss: 2.0713e-04 - accuracy: 0.0016\n",
      "Epoch 187/200\n",
      "1257/1257 [==============================] - 0s 137us/step - loss: 2.0080e-04 - accuracy: 0.0016\n",
      "Epoch 188/200\n",
      "1257/1257 [==============================] - 0s 137us/step - loss: 2.0657e-04 - accuracy: 0.0016\n",
      "Epoch 189/200\n",
      "1257/1257 [==============================] - 0s 121us/step - loss: 2.0759e-04 - accuracy: 0.0016\n",
      "Epoch 190/200\n",
      "1257/1257 [==============================] - 0s 118us/step - loss: 2.0999e-04 - accuracy: 0.0016\n",
      "Epoch 191/200\n",
      "1257/1257 [==============================] - 0s 121us/step - loss: 2.0000e-04 - accuracy: 0.0016\n",
      "Epoch 192/200\n",
      "1257/1257 [==============================] - 0s 118us/step - loss: 2.0732e-04 - accuracy: 0.0016\n",
      "Epoch 193/200\n",
      "1257/1257 [==============================] - 0s 115us/step - loss: 2.0233e-04 - accuracy: 0.0016\n",
      "Epoch 194/200\n",
      "1257/1257 [==============================] - 0s 117us/step - loss: 2.0017e-04 - accuracy: 0.0016\n",
      "Epoch 195/200\n",
      "1257/1257 [==============================] - 0s 118us/step - loss: 2.0836e-04 - accuracy: 0.0016\n",
      "Epoch 196/200\n",
      "1257/1257 [==============================] - 0s 134us/step - loss: 2.1040e-04 - accuracy: 0.0016\n",
      "Epoch 197/200\n",
      "1257/1257 [==============================] - 0s 127us/step - loss: 2.0397e-04 - accuracy: 0.0016\n",
      "Epoch 198/200\n",
      "1257/1257 [==============================] - 0s 121us/step - loss: 2.0286e-04 - accuracy: 0.0016\n",
      "Epoch 199/200\n",
      "1257/1257 [==============================] - 0s 118us/step - loss: 2.1048e-04 - accuracy: 0.0016\n",
      "Epoch 200/200\n",
      "1257/1257 [==============================] - 0s 118us/step - loss: 2.0556e-04 - accuracy: 0.0016\n"
     ]
    }
   ],
   "source": [
    "hist=model.fit(XT,YT,epochs=200,callbacks=[checkpoint])"
   ]
  },
  {
   "cell_type": "code",
   "execution_count": 313,
   "metadata": {},
   "outputs": [
    {
     "data": {
      "image/png": "[encoded data removed]",
      "text/plain": [
       "<Figure size 432x288 with 1 Axes>"
      ]
     },
     "metadata": {
      "needs_background": "light"
     },
     "output_type": "display_data"
    }
   ],
   "source": [
    "# train_acc=hist.history[\"accuracy\"]\n",
    "train_loss=hist.history[\"loss\"]\n",
    "# val_loss=hist.history[\"val_loss\"]\n",
    "# val_acc=hist.history[\"val_accuracy\"]\n",
    "\n",
    "# plt.plot(train_acc,label=\"Acc\")\n",
    "plt.plot(train_loss,label=\"loss\")\n",
    "# plt.plot(val_loss,label=\"Val loss\")\n",
    "# plt.plot(val_acc,label=\"val Acc\")\n",
    "\n",
    "plt.legend()\n",
    "plt.show()"
   ]
  },
  {
   "cell_type": "code",
   "execution_count": 314,
   "metadata": {},
   "outputs": [],
   "source": [
    "model.load_weights(\"model.h5\")"
   ]
  },
  {
   "cell_type": "code",
   "execution_count": 315,
   "metadata": {},
   "outputs": [
    {
     "name": "stdout",
     "output_type": "stream",
     "text": [
      "1257/1257 [==============================] - 1s 550us/step\n"
     ]
    },
    {
     "data": {
      "text/plain": [
       "[0.00020648828722360968, 0.0015910898800939322]"
      ]
     },
     "execution_count": 315,
     "metadata": {},
     "output_type": "execute_result"
    }
   ],
   "source": [
    "model.evaluate(XT,YT)"
   ]
  },
  {
   "cell_type": "code",
   "execution_count": 322,
   "metadata": {},
   "outputs": [],
   "source": [
    "sc1=MinMaxScaler(feature_range=(0,1))"
   ]
  },
  {
   "cell_type": "code",
   "execution_count": 323,
   "metadata": {},
   "outputs": [],
   "source": [
    "Xt=sc1.fit_transform(Xt)"
   ]
  },
  {
   "cell_type": "code",
   "execution_count": 324,
   "metadata": {},
   "outputs": [],
   "source": [
    "Xt=np.array(Xt)\n",
    "Xt=Xt.reshape(Xt.shape[0],Xt.shape[1],1)"
   ]
  },
  {
   "cell_type": "code",
   "execution_count": 325,
   "metadata": {},
   "outputs": [
    {
     "data": {
      "text/plain": [
       "(19, 1, 1)"
      ]
     },
     "execution_count": 325,
     "metadata": {},
     "output_type": "execute_result"
    }
   ],
   "source": [
    "Xt.shape"
   ]
  },
  {
   "cell_type": "code",
   "execution_count": 326,
   "metadata": {},
   "outputs": [],
   "source": [
    "p=model.predict(Xt)"
   ]
  },
  {
   "cell_type": "code",
   "execution_count": 327,
   "metadata": {},
   "outputs": [],
   "source": [
    "p=sc1.inverse_transform(p)"
   ]
  },
  {
   "cell_type": "code",
   "execution_count": 328,
   "metadata": {},
   "outputs": [
    {
     "data": {
      "text/plain": [
       "array([[789.8588 ],\n",
       "       [791.5417 ],\n",
       "       [794.64496],\n",
       "       [808.04865],\n",
       "       [810.1291 ],\n",
       "       [809.2846 ],\n",
       "       [808.2998 ],\n",
       "       [807.53644],\n",
       "       [811.38617],\n",
       "       [807.28534],\n",
       "       [806.3518 ],\n",
       "       [809.6364 ],\n",
       "       [807.05444],\n",
       "       [821.097  ],\n",
       "       [826.1498 ],\n",
       "       [836.01025],\n",
       "       [838.2238 ],\n",
       "       [842.1285 ],\n",
       "       [816.0355 ]], dtype=float32)"
      ]
     },
     "execution_count": 328,
     "metadata": {},
     "output_type": "execute_result"
    }
   ],
   "source": [
    "p"
   ]
  },
  {
   "cell_type": "code",
   "execution_count": 329,
   "metadata": {},
   "outputs": [
    {
     "data": {
      "text/plain": [
       "(19, 1)"
      ]
     },
     "execution_count": 329,
     "metadata": {},
     "output_type": "execute_result"
    }
   ],
   "source": [
    "p.shape"
   ]
  },
  {
   "cell_type": "code",
   "execution_count": 330,
   "metadata": {},
   "outputs": [],
   "source": [
    "pred=pd.DataFrame(p,columns=[\"High\"])"
   ]
  },
  {
   "cell_type": "code",
   "execution_count": 331,
   "metadata": {},
   "outputs": [
    {
     "data": {
      "text/html": [
       "<div>\n",
       "<style scoped>\n",
       "    .dataframe tbody tr th:only-of-type {\n",
       "        vertical-align: middle;\n",
       "    }\n",
       "\n",
       "    .dataframe tbody tr th {\n",
       "        vertical-align: top;\n",
       "    }\n",
       "\n",
       "    .dataframe thead th {\n",
       "        text-align: right;\n",
       "    }\n",
       "</style>\n",
       "<table border=\"1\" class=\"dataframe\">\n",
       "  <thead>\n",
       "    <tr style=\"text-align: right;\">\n",
       "      <th></th>\n",
       "      <th>High</th>\n",
       "    </tr>\n",
       "  </thead>\n",
       "  <tbody>\n",
       "    <tr>\n",
       "      <td>0</td>\n",
       "      <td>789.858826</td>\n",
       "    </tr>\n",
       "    <tr>\n",
       "      <td>1</td>\n",
       "      <td>791.541687</td>\n",
       "    </tr>\n",
       "    <tr>\n",
       "      <td>2</td>\n",
       "      <td>794.644958</td>\n",
       "    </tr>\n",
       "    <tr>\n",
       "      <td>3</td>\n",
       "      <td>808.048645</td>\n",
       "    </tr>\n",
       "    <tr>\n",
       "      <td>4</td>\n",
       "      <td>810.129089</td>\n",
       "    </tr>\n",
       "    <tr>\n",
       "      <td>5</td>\n",
       "      <td>809.284607</td>\n",
       "    </tr>\n",
       "    <tr>\n",
       "      <td>6</td>\n",
       "      <td>808.299805</td>\n",
       "    </tr>\n",
       "    <tr>\n",
       "      <td>7</td>\n",
       "      <td>807.536438</td>\n",
       "    </tr>\n",
       "    <tr>\n",
       "      <td>8</td>\n",
       "      <td>811.386169</td>\n",
       "    </tr>\n",
       "    <tr>\n",
       "      <td>9</td>\n",
       "      <td>807.285339</td>\n",
       "    </tr>\n",
       "    <tr>\n",
       "      <td>10</td>\n",
       "      <td>806.351807</td>\n",
       "    </tr>\n",
       "    <tr>\n",
       "      <td>11</td>\n",
       "      <td>809.636414</td>\n",
       "    </tr>\n",
       "    <tr>\n",
       "      <td>12</td>\n",
       "      <td>807.054443</td>\n",
       "    </tr>\n",
       "    <tr>\n",
       "      <td>13</td>\n",
       "      <td>821.096985</td>\n",
       "    </tr>\n",
       "    <tr>\n",
       "      <td>14</td>\n",
       "      <td>826.149780</td>\n",
       "    </tr>\n",
       "    <tr>\n",
       "      <td>15</td>\n",
       "      <td>836.010254</td>\n",
       "    </tr>\n",
       "    <tr>\n",
       "      <td>16</td>\n",
       "      <td>838.223816</td>\n",
       "    </tr>\n",
       "    <tr>\n",
       "      <td>17</td>\n",
       "      <td>842.128479</td>\n",
       "    </tr>\n",
       "    <tr>\n",
       "      <td>18</td>\n",
       "      <td>816.035522</td>\n",
       "    </tr>\n",
       "  </tbody>\n",
       "</table>\n",
       "</div>"
      ],
      "text/plain": [
       "          High\n",
       "0   789.858826\n",
       "1   791.541687\n",
       "2   794.644958\n",
       "3   808.048645\n",
       "4   810.129089\n",
       "5   809.284607\n",
       "6   808.299805\n",
       "7   807.536438\n",
       "8   811.386169\n",
       "9   807.285339\n",
       "10  806.351807\n",
       "11  809.636414\n",
       "12  807.054443\n",
       "13  821.096985\n",
       "14  826.149780\n",
       "15  836.010254\n",
       "16  838.223816\n",
       "17  842.128479\n",
       "18  816.035522"
      ]
     },
     "execution_count": 331,
     "metadata": {},
     "output_type": "execute_result"
    }
   ],
   "source": [
    "pred"
   ]
  },
  {
   "cell_type": "code",
   "execution_count": 332,
   "metadata": {},
   "outputs": [],
   "source": [
    "pred.to_csv(\"pred.csv\",index=False)"
   ]
  },
  {
   "cell_type": "code",
   "execution_count": null,
   "metadata": {},
   "outputs": [],
   "source": []
  }
 ],
 "metadata": {
  "kernelspec": {
   "display_name": "Python 3",
   "language": "python",
   "name": "python3"
  },
  "language_info": {
   "codemirror_mode": {
    "name": "ipython",
    "version": 3
   },
   "file_extension": ".py",
   "mimetype": "text/x-python",
   "name": "python",
   "nbconvert_exporter": "python",
   "pygments_lexer": "ipython3",
   "version": "3.7.3"
  }
 },
 "nbformat": 4,
 "nbformat_minor": 2
}
