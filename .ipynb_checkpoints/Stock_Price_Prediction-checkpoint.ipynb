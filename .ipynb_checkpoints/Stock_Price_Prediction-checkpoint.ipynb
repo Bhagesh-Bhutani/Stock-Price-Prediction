{
 "cells": [
  {
   "cell_type": "code",
   "execution_count": 248,
   "metadata": {},
   "outputs": [],
   "source": [
    "import numpy as np\n",
    "import pandas as pd\n",
    "import matplotlib.pyplot as plt\n",
    "from keras.layers import *\n",
    "from keras.models import Sequential\n",
    "from keras.callbacks.callbacks import ModelCheckpoint\n",
    "from sklearn.preprocessing import MinMaxScaler\n",
    "from keras.optimizers import adam"
   ]
  },
  {
   "cell_type": "code",
   "execution_count": 270,
   "metadata": {},
   "outputs": [],
   "source": [
    "XT=pd.read_csv(\"x_train.csv\")\n",
    "YT=pd.read_csv(\"y_train.csv\")"
   ]
  },
  {
   "cell_type": "code",
   "execution_count": 287,
   "metadata": {},
   "outputs": [
    {
     "data": {
      "text/plain": [
       "(1257, 1, 1)"
      ]
     },
     "execution_count": 287,
     "metadata": {},
     "output_type": "execute_result"
    }
   ],
   "source": [
    "XT.shape"
   ]
  },
  {
   "cell_type": "code",
   "execution_count": 288,
   "metadata": {},
   "outputs": [
    {
     "data": {
      "text/plain": [
       "(1257, 1)"
      ]
     },
     "execution_count": 288,
     "metadata": {},
     "output_type": "execute_result"
    }
   ],
   "source": [
    "YT.shape"
   ]
  },
  {
   "cell_type": "code",
   "execution_count": 273,
   "metadata": {},
   "outputs": [],
   "source": [
    "Xt=pd.read_csv(\"x_test.csv\")"
   ]
  },
  {
   "cell_type": "code",
   "execution_count": 274,
   "metadata": {},
   "outputs": [
    {
     "data": {
      "text/plain": [
       "(19, 1)"
      ]
     },
     "execution_count": 274,
     "metadata": {},
     "output_type": "execute_result"
    }
   ],
   "source": [
    "Xt.shape"
   ]
  },
  {
   "cell_type": "code",
   "execution_count": 275,
   "metadata": {},
   "outputs": [],
   "source": [
    "XT=sc.fit_transform(XT)\n",
    "Xt=sc.fit_transform(Xt)\n",
    "YT=sc.transform(YT)"
   ]
  },
  {
   "cell_type": "code",
   "execution_count": 276,
   "metadata": {},
   "outputs": [],
   "source": [
    "XT=np.array(XT)"
   ]
  },
  {
   "cell_type": "code",
   "execution_count": 277,
   "metadata": {},
   "outputs": [],
   "source": [
    "XT=XT.reshape(XT.shape[0],XT.shape[1],1)"
   ]
  },
  {
   "cell_type": "code",
   "execution_count": 278,
   "metadata": {},
   "outputs": [],
   "source": [
    "sc=MinMaxScaler(feature_range=(0,1))"
   ]
  },
  {
   "cell_type": "code",
   "execution_count": 293,
   "metadata": {},
   "outputs": [
    {
     "name": "stdout",
     "output_type": "stream",
     "text": [
      "Model: \"sequential_58\"\n",
      "_________________________________________________________________\n",
      "Layer (type)                 Output Shape              Param #   \n",
      "=================================================================\n",
      "lstm_54 (LSTM)               (None, 32)                4352      \n",
      "_________________________________________________________________\n",
      "dense_31 (Dense)             (None, 1)                 33        \n",
      "=================================================================\n",
      "Total params: 4,385\n",
      "Trainable params: 4,385\n",
      "Non-trainable params: 0\n",
      "_________________________________________________________________\n"
     ]
    }
   ],
   "source": [
    "regressor = Sequential()\n",
    "\n",
    "\n",
    "regressor.add(LSTM(units = 32, input_shape = (1, 1)))\n",
    "\n",
    "regressor.add(Dense(1))\n",
    "\n",
    "\n",
    "regressor.compile(optimizer ='adam', loss = 'mean_squared_error', metrics= ['accuracy'])\n",
    "\n",
    "regressor.summary()"
   ]
  },
  {
   "cell_type": "code",
   "execution_count": 294,
   "metadata": {},
   "outputs": [],
   "source": [
    "checkpoint=ModelCheckpoint(\"model.h5\",monitor='val_loss',save_best_only=True)"
   ]
  },
  {
   "cell_type": "code",
   "execution_count": 295,
   "metadata": {},
   "outputs": [
    {
     "name": "stdout",
     "output_type": "stream",
     "text": [
      "Train on 1005 samples, validate on 252 samples\n",
      "Epoch 1/50\n",
      "1005/1005 [==============================] - 1s 1ms/step - loss: 38.7724 - accuracy: 0.0000e+00 - val_loss: 0.7966 - val_accuracy: 0.0000e+00\n",
      "Epoch 2/50\n",
      "1005/1005 [==============================] - 0s 83us/step - loss: 37.3040 - accuracy: 0.0000e+00 - val_loss: 0.5914 - val_accuracy: 0.0000e+00\n",
      "Epoch 3/50\n",
      "1005/1005 [==============================] - 0s 72us/step - loss: 35.4111 - accuracy: 0.0000e+00 - val_loss: 0.4547 - val_accuracy: 0.0000e+00\n",
      "Epoch 4/50\n",
      "1005/1005 [==============================] - 0s 84us/step - loss: 32.8730 - accuracy: 0.0000e+00 - val_loss: 0.5664 - val_accuracy: 0.0000e+00\n",
      "Epoch 5/50\n",
      "1005/1005 [==============================] - 0s 88us/step - loss: 29.6773 - accuracy: 0.0000e+00 - val_loss: 1.2603 - val_accuracy: 0.0000e+00\n",
      "Epoch 6/50\n",
      "1005/1005 [==============================] - 0s 92us/step - loss: 26.0270 - accuracy: 0.0000e+00 - val_loss: 2.9543 - val_accuracy: 0.0000e+00\n",
      "Epoch 7/50\n",
      "1005/1005 [==============================] - 0s 92us/step - loss: 22.2176 - accuracy: 0.0000e+00 - val_loss: 5.9747 - val_accuracy: 0.0000e+00\n",
      "Epoch 8/50\n",
      "1005/1005 [==============================] - 0s 92us/step - loss: 18.6561 - accuracy: 0.0000e+00 - val_loss: 10.3422 - val_accuracy: 0.0000e+00\n",
      "Epoch 9/50\n",
      "1005/1005 [==============================] - 0s 88us/step - loss: 15.6993 - accuracy: 0.0000e+00 - val_loss: 15.6171 - val_accuracy: 0.0000e+00\n",
      "Epoch 10/50\n",
      "1005/1005 [==============================] - 0s 88us/step - loss: 13.4701 - accuracy: 0.0000e+00 - val_loss: 20.9106 - val_accuracy: 0.0000e+00\n",
      "Epoch 11/50\n",
      "1005/1005 [==============================] - 0s 88us/step - loss: 11.9431 - accuracy: 0.0000e+00 - val_loss: 25.5794 - val_accuracy: 0.0000e+00\n",
      "Epoch 12/50\n",
      "1005/1005 [==============================] - 0s 92us/step - loss: 10.9137 - accuracy: 0.0000e+00 - val_loss: 28.7702 - val_accuracy: 0.0000e+00\n",
      "Epoch 13/50\n",
      "1005/1005 [==============================] - 0s 88us/step - loss: 10.1418 - accuracy: 0.0000e+00 - val_loss: 30.0305 - val_accuracy: 0.0000e+00\n",
      "Epoch 14/50\n",
      "1005/1005 [==============================] - 0s 88us/step - loss: 9.5263 - accuracy: 0.0000e+00 - val_loss: 30.7292 - val_accuracy: 0.0000e+00\n",
      "Epoch 15/50\n",
      "1005/1005 [==============================] - 0s 88us/step - loss: 8.9733 - accuracy: 0.0000e+00 - val_loss: 30.6991 - val_accuracy: 0.0000e+00\n",
      "Epoch 16/50\n",
      "1005/1005 [==============================] - 0s 88us/step - loss: 8.4659 - accuracy: 0.0000e+00 - val_loss: 29.8779 - val_accuracy: 0.0000e+00\n",
      "Epoch 17/50\n",
      "1005/1005 [==============================] - 0s 103us/step - loss: 7.9860 - accuracy: 0.0000e+00 - val_loss: 28.7641 - val_accuracy: 0.0000e+00\n",
      "Epoch 18/50\n",
      "1005/1005 [==============================] - 0s 92us/step - loss: 7.5290 - accuracy: 0.0000e+00 - val_loss: 28.1232 - val_accuracy: 0.0000e+00\n",
      "Epoch 19/50\n",
      "1005/1005 [==============================] - 0s 95us/step - loss: 7.0729 - accuracy: 0.0000e+00 - val_loss: 26.3923 - val_accuracy: 0.0000e+00\n",
      "Epoch 20/50\n",
      "1005/1005 [==============================] - 0s 100us/step - loss: 6.6392 - accuracy: 0.0000e+00 - val_loss: 25.2335 - val_accuracy: 0.0000e+00\n",
      "Epoch 21/50\n",
      "1005/1005 [==============================] - 0s 107us/step - loss: 6.2230 - accuracy: 0.0000e+00 - val_loss: 24.1347 - val_accuracy: 0.0000e+00\n",
      "Epoch 22/50\n",
      "1005/1005 [==============================] - 0s 107us/step - loss: 5.8170 - accuracy: 0.0000e+00 - val_loss: 22.6355 - val_accuracy: 0.0000e+00\n",
      "Epoch 23/50\n",
      "1005/1005 [==============================] - 0s 92us/step - loss: 5.4199 - accuracy: 0.0000e+00 - val_loss: 21.4349 - val_accuracy: 0.0000e+00\n",
      "Epoch 24/50\n",
      "1005/1005 [==============================] - 0s 100us/step - loss: 5.0395 - accuracy: 0.0000e+00 - val_loss: 20.1113 - val_accuracy: 0.0000e+00\n",
      "Epoch 25/50\n",
      "1005/1005 [==============================] - 0s 107us/step - loss: 4.6596 - accuracy: 0.0000e+00 - val_loss: 18.7768 - val_accuracy: 0.0000e+00\n",
      "Epoch 26/50\n",
      "1005/1005 [==============================] - 0s 111us/step - loss: 4.2935 - accuracy: 0.0000e+00 - val_loss: 17.3464 - val_accuracy: 0.0000e+00\n",
      "Epoch 27/50\n",
      "1005/1005 [==============================] - 0s 96us/step - loss: 3.9386 - accuracy: 0.0000e+00 - val_loss: 16.1953 - val_accuracy: 0.0000e+00\n",
      "Epoch 28/50\n",
      "1005/1005 [==============================] - 0s 96us/step - loss: 3.5962 - accuracy: 0.0000e+00 - val_loss: 14.6601 - val_accuracy: 0.0000e+00\n",
      "Epoch 29/50\n",
      "1005/1005 [==============================] - 0s 76us/step - loss: 3.2629 - accuracy: 0.0000e+00 - val_loss: 13.5480 - val_accuracy: 0.0000e+00\n",
      "Epoch 30/50\n",
      "1005/1005 [==============================] - 0s 88us/step - loss: 2.9397 - accuracy: 0.0000e+00 - val_loss: 12.1986 - val_accuracy: 0.0000e+00\n",
      "Epoch 31/50\n",
      "1005/1005 [==============================] - 0s 111us/step - loss: 2.6315 - accuracy: 0.0000e+00 - val_loss: 10.8769 - val_accuracy: 0.0000e+00\n",
      "Epoch 32/50\n",
      "1005/1005 [==============================] - 0s 96us/step - loss: 2.3394 - accuracy: 0.0000e+00 - val_loss: 9.6680 - val_accuracy: 0.0000e+00\n",
      "Epoch 33/50\n",
      "1005/1005 [==============================] - 0s 96us/step - loss: 2.0641 - accuracy: 0.0000e+00 - val_loss: 8.5575 - val_accuracy: 0.0000e+00\n",
      "Epoch 34/50\n",
      "1005/1005 [==============================] - 0s 99us/step - loss: 1.8012 - accuracy: 0.0000e+00 - val_loss: 7.5101 - val_accuracy: 0.0000e+00\n",
      "Epoch 35/50\n",
      "1005/1005 [==============================] - 0s 111us/step - loss: 1.5588 - accuracy: 0.0000e+00 - val_loss: 6.5066 - val_accuracy: 0.0000e+00\n",
      "Epoch 36/50\n",
      "1005/1005 [==============================] - 0s 111us/step - loss: 1.3324 - accuracy: 0.0000e+00 - val_loss: 5.5607 - val_accuracy: 0.0000e+00\n",
      "Epoch 37/50\n",
      "1005/1005 [==============================] - 0s 100us/step - loss: 1.1254 - accuracy: 0.0000e+00 - val_loss: 4.6847 - val_accuracy: 0.0000e+00\n",
      "Epoch 38/50\n",
      "1005/1005 [==============================] - 0s 92us/step - loss: 0.9416 - accuracy: 0.0000e+00 - val_loss: 3.9622 - val_accuracy: 0.0000e+00\n",
      "Epoch 39/50\n",
      "1005/1005 [==============================] - 0s 100us/step - loss: 0.7743 - accuracy: 0.0000e+00 - val_loss: 3.2360 - val_accuracy: 0.0000e+00\n",
      "Epoch 40/50\n",
      "1005/1005 [==============================] - 0s 104us/step - loss: 0.6289 - accuracy: 0.0000e+00 - val_loss: 2.6692 - val_accuracy: 0.0000e+00\n",
      "Epoch 41/50\n",
      "1005/1005 [==============================] - 0s 107us/step - loss: 0.5054 - accuracy: 0.0000e+00 - val_loss: 2.1274 - val_accuracy: 0.0000e+00\n",
      "Epoch 42/50\n",
      "1005/1005 [==============================] - 0s 103us/step - loss: 0.4001 - accuracy: 0.0000e+00 - val_loss: 1.7039 - val_accuracy: 0.0000e+00\n",
      "Epoch 43/50\n",
      "1005/1005 [==============================] - 0s 103us/step - loss: 0.3130 - accuracy: 0.0000e+00 - val_loss: 1.3345 - val_accuracy: 0.0000e+00\n",
      "Epoch 44/50\n",
      "1005/1005 [==============================] - 0s 103us/step - loss: 0.2428 - accuracy: 0.0000e+00 - val_loss: 1.0560 - val_accuracy: 0.0000e+00\n",
      "Epoch 45/50\n",
      "1005/1005 [==============================] - 0s 107us/step - loss: 0.1857 - accuracy: 0.0000e+00 - val_loss: 0.8042 - val_accuracy: 0.0000e+00\n",
      "Epoch 46/50\n",
      "1005/1005 [==============================] - 0s 107us/step - loss: 0.1412 - accuracy: 0.0000e+00 - val_loss: 0.6343 - val_accuracy: 0.0000e+00\n",
      "Epoch 47/50\n",
      "1005/1005 [==============================] - 0s 103us/step - loss: 0.1077 - accuracy: 0.0000e+00 - val_loss: 0.4861 - val_accuracy: 0.0000e+00\n",
      "Epoch 48/50\n",
      "1005/1005 [==============================] - 0s 103us/step - loss: 0.0826 - accuracy: 0.0000e+00 - val_loss: 0.3704 - val_accuracy: 0.0000e+00\n",
      "Epoch 49/50\n",
      "1005/1005 [==============================] - 0s 107us/step - loss: 0.0638 - accuracy: 0.0000e+00 - val_loss: 0.2947 - val_accuracy: 0.0000e+00\n",
      "Epoch 50/50\n",
      "1005/1005 [==============================] - 0s 100us/step - loss: 0.0505 - accuracy: 0.0000e+00 - val_loss: 0.2264 - val_accuracy: 0.0000e+00\n"
     ]
    }
   ],
   "source": [
    "hist=regressor.fit(XT,YT,epochs=50,callbacks=[checkpoint],validation_split=0.2)"
   ]
  },
  {
   "cell_type": "code",
   "execution_count": 296,
   "metadata": {},
   "outputs": [
    {
     "data": {
      "image/png": "[encoded data removed]",
      "text/plain": [
       "<Figure size 432x288 with 1 Axes>"
      ]
     },
     "metadata": {
      "needs_background": "light"
     },
     "output_type": "display_data"
    }
   ],
   "source": [
    "# train_acc=hist.history[\"accuracy\"]\n",
    "train_loss=hist.history[\"loss\"]\n",
    "# val_loss=hist.history[\"val_loss\"]\n",
    "# val_acc=hist.history[\"val_accuracy\"]\n",
    "\n",
    "# plt.plot(train_acc,label=\"Acc\")\n",
    "plt.plot(train_loss,label=\"loss\")\n",
    "# plt.plot(val_loss,label=\"Val loss\")\n",
    "# plt.plot(val_acc,label=\"val Acc\")\n",
    "\n",
    "plt.legend()\n",
    "plt.show()"
   ]
  },
  {
   "cell_type": "code",
   "execution_count": 289,
   "metadata": {},
   "outputs": [],
   "source": [
    "regressor.load_weights(\"model.h5\")"
   ]
  },
  {
   "cell_type": "code",
   "execution_count": 297,
   "metadata": {},
   "outputs": [
    {
     "name": "stdout",
     "output_type": "stream",
     "text": [
      "1257/1257 [==============================] - 0s 60us/step\n"
     ]
    },
    {
     "data": {
      "text/plain": [
       "[0.0811609384102203, 0.0]"
      ]
     },
     "execution_count": 297,
     "metadata": {},
     "output_type": "execute_result"
    }
   ],
   "source": [
    "regressor.evaluate(XT,YT)"
   ]
  },
  {
   "cell_type": "code",
   "execution_count": 298,
   "metadata": {},
   "outputs": [],
   "source": [
    "Xt=np.array(Xt)\n",
    "Xt=Xt.reshape(-1,1,1)"
   ]
  },
  {
   "cell_type": "code",
   "execution_count": 300,
   "metadata": {},
   "outputs": [
    {
     "data": {
      "text/plain": [
       "(19, 1, 1)"
      ]
     },
     "execution_count": 300,
     "metadata": {},
     "output_type": "execute_result"
    }
   ],
   "source": [
    "Xt.shape"
   ]
  },
  {
   "cell_type": "code",
   "execution_count": 299,
   "metadata": {},
   "outputs": [
    {
     "ename": "InvalidArgumentError",
     "evalue": "Matrix size-incompatible: In[0]: [19,64], In[1]: [32,128]\n\t [[{{node lstm_43/while/MatMul_1}}]]",
     "output_type": "error",
     "traceback": [
      "\u001b[1;31m---------------------------------------------------------------------------\u001b[0m",
      "\u001b[1;31mInvalidArgumentError\u001b[0m                      Traceback (most recent call last)",
      "\u001b[1;32m<ipython-input-299-3669915b32e5>\u001b[0m in \u001b[0;36m<module>\u001b[1;34m\u001b[0m\n\u001b[1;32m----> 1\u001b[1;33m \u001b[0mp\u001b[0m\u001b[1;33m=\u001b[0m\u001b[0mmodel\u001b[0m\u001b[1;33m.\u001b[0m\u001b[0mpredict\u001b[0m\u001b[1;33m(\u001b[0m\u001b[0mXt\u001b[0m\u001b[1;33m)\u001b[0m\u001b[1;33m\u001b[0m\u001b[1;33m\u001b[0m\u001b[0m\n\u001b[0m",
      "\u001b[1;32mc:\\users\\bhagesh\\appdata\\local\\programs\\python\\python37\\lib\\site-packages\\keras\\engine\\training.py\u001b[0m in \u001b[0;36mpredict\u001b[1;34m(self, x, batch_size, verbose, steps, callbacks, max_queue_size, workers, use_multiprocessing)\u001b[0m\n\u001b[0;32m   1460\u001b[0m                                             \u001b[0mverbose\u001b[0m\u001b[1;33m=\u001b[0m\u001b[0mverbose\u001b[0m\u001b[1;33m,\u001b[0m\u001b[1;33m\u001b[0m\u001b[1;33m\u001b[0m\u001b[0m\n\u001b[0;32m   1461\u001b[0m                                             \u001b[0msteps\u001b[0m\u001b[1;33m=\u001b[0m\u001b[0msteps\u001b[0m\u001b[1;33m,\u001b[0m\u001b[1;33m\u001b[0m\u001b[1;33m\u001b[0m\u001b[0m\n\u001b[1;32m-> 1462\u001b[1;33m                                             callbacks=callbacks)\n\u001b[0m\u001b[0;32m   1463\u001b[0m \u001b[1;33m\u001b[0m\u001b[0m\n\u001b[0;32m   1464\u001b[0m     def train_on_batch(self, x, y,\n",
      "\u001b[1;32mc:\\users\\bhagesh\\appdata\\local\\programs\\python\\python37\\lib\\site-packages\\keras\\engine\\training_arrays.py\u001b[0m in \u001b[0;36mpredict_loop\u001b[1;34m(model, f, ins, batch_size, verbose, steps, callbacks)\u001b[0m\n\u001b[0;32m    322\u001b[0m             \u001b[0mbatch_logs\u001b[0m \u001b[1;33m=\u001b[0m \u001b[1;33m{\u001b[0m\u001b[1;34m'batch'\u001b[0m\u001b[1;33m:\u001b[0m \u001b[0mbatch_index\u001b[0m\u001b[1;33m,\u001b[0m \u001b[1;34m'size'\u001b[0m\u001b[1;33m:\u001b[0m \u001b[0mlen\u001b[0m\u001b[1;33m(\u001b[0m\u001b[0mbatch_ids\u001b[0m\u001b[1;33m)\u001b[0m\u001b[1;33m}\u001b[0m\u001b[1;33m\u001b[0m\u001b[1;33m\u001b[0m\u001b[0m\n\u001b[0;32m    323\u001b[0m             \u001b[0mcallbacks\u001b[0m\u001b[1;33m.\u001b[0m\u001b[0m_call_batch_hook\u001b[0m\u001b[1;33m(\u001b[0m\u001b[1;34m'predict'\u001b[0m\u001b[1;33m,\u001b[0m \u001b[1;34m'begin'\u001b[0m\u001b[1;33m,\u001b[0m \u001b[0mbatch_index\u001b[0m\u001b[1;33m,\u001b[0m \u001b[0mbatch_logs\u001b[0m\u001b[1;33m)\u001b[0m\u001b[1;33m\u001b[0m\u001b[1;33m\u001b[0m\u001b[0m\n\u001b[1;32m--> 324\u001b[1;33m             \u001b[0mbatch_outs\u001b[0m \u001b[1;33m=\u001b[0m \u001b[0mf\u001b[0m\u001b[1;33m(\u001b[0m\u001b[0mins_batch\u001b[0m\u001b[1;33m)\u001b[0m\u001b[1;33m\u001b[0m\u001b[1;33m\u001b[0m\u001b[0m\n\u001b[0m\u001b[0;32m    325\u001b[0m             \u001b[0mbatch_outs\u001b[0m \u001b[1;33m=\u001b[0m \u001b[0mto_list\u001b[0m\u001b[1;33m(\u001b[0m\u001b[0mbatch_outs\u001b[0m\u001b[1;33m)\u001b[0m\u001b[1;33m\u001b[0m\u001b[1;33m\u001b[0m\u001b[0m\n\u001b[0;32m    326\u001b[0m             \u001b[1;32mif\u001b[0m \u001b[0mbatch_index\u001b[0m \u001b[1;33m==\u001b[0m \u001b[1;36m0\u001b[0m\u001b[1;33m:\u001b[0m\u001b[1;33m\u001b[0m\u001b[1;33m\u001b[0m\u001b[0m\n",
      "\u001b[1;32mc:\\users\\bhagesh\\appdata\\local\\programs\\python\\python37\\lib\\site-packages\\tensorflow_core\\python\\keras\\backend.py\u001b[0m in \u001b[0;36m__call__\u001b[1;34m(self, inputs)\u001b[0m\n\u001b[0;32m   3474\u001b[0m \u001b[1;33m\u001b[0m\u001b[0m\n\u001b[0;32m   3475\u001b[0m     fetched = self._callable_fn(*array_vals,\n\u001b[1;32m-> 3476\u001b[1;33m                                 run_metadata=self.run_metadata)\n\u001b[0m\u001b[0;32m   3477\u001b[0m     \u001b[0mself\u001b[0m\u001b[1;33m.\u001b[0m\u001b[0m_call_fetch_callbacks\u001b[0m\u001b[1;33m(\u001b[0m\u001b[0mfetched\u001b[0m\u001b[1;33m[\u001b[0m\u001b[1;33m-\u001b[0m\u001b[0mlen\u001b[0m\u001b[1;33m(\u001b[0m\u001b[0mself\u001b[0m\u001b[1;33m.\u001b[0m\u001b[0m_fetches\u001b[0m\u001b[1;33m)\u001b[0m\u001b[1;33m:\u001b[0m\u001b[1;33m]\u001b[0m\u001b[1;33m)\u001b[0m\u001b[1;33m\u001b[0m\u001b[1;33m\u001b[0m\u001b[0m\n\u001b[0;32m   3478\u001b[0m     output_structure = nest.pack_sequence_as(\n",
      "\u001b[1;32mc:\\users\\bhagesh\\appdata\\local\\programs\\python\\python37\\lib\\site-packages\\tensorflow_core\\python\\client\\session.py\u001b[0m in \u001b[0;36m__call__\u001b[1;34m(self, *args, **kwargs)\u001b[0m\n\u001b[0;32m   1470\u001b[0m         ret = tf_session.TF_SessionRunCallable(self._session._session,\n\u001b[0;32m   1471\u001b[0m                                                \u001b[0mself\u001b[0m\u001b[1;33m.\u001b[0m\u001b[0m_handle\u001b[0m\u001b[1;33m,\u001b[0m \u001b[0margs\u001b[0m\u001b[1;33m,\u001b[0m\u001b[1;33m\u001b[0m\u001b[1;33m\u001b[0m\u001b[0m\n\u001b[1;32m-> 1472\u001b[1;33m                                                run_metadata_ptr)\n\u001b[0m\u001b[0;32m   1473\u001b[0m         \u001b[1;32mif\u001b[0m \u001b[0mrun_metadata\u001b[0m\u001b[1;33m:\u001b[0m\u001b[1;33m\u001b[0m\u001b[1;33m\u001b[0m\u001b[0m\n\u001b[0;32m   1474\u001b[0m           \u001b[0mproto_data\u001b[0m \u001b[1;33m=\u001b[0m \u001b[0mtf_session\u001b[0m\u001b[1;33m.\u001b[0m\u001b[0mTF_GetBuffer\u001b[0m\u001b[1;33m(\u001b[0m\u001b[0mrun_metadata_ptr\u001b[0m\u001b[1;33m)\u001b[0m\u001b[1;33m\u001b[0m\u001b[1;33m\u001b[0m\u001b[0m\n",
      "\u001b[1;31mInvalidArgumentError\u001b[0m: Matrix size-incompatible: In[0]: [19,64], In[1]: [32,128]\n\t [[{{node lstm_43/while/MatMul_1}}]]"
     ]
    }
   ],
   "source": [
    "p=model.predict(Xt)"
   ]
  },
  {
   "cell_type": "code",
   "execution_count": 265,
   "metadata": {},
   "outputs": [],
   "source": [
    "p=sc.inverse_transform(p)"
   ]
  },
  {
   "cell_type": "code",
   "execution_count": 266,
   "metadata": {},
   "outputs": [
    {
     "data": {
      "text/plain": [
       "array([[281.35297],\n",
       "       [298.75922],\n",
       "       [330.80484],\n",
       "       [468.40842],\n",
       "       [489.65558],\n",
       "       [481.03433],\n",
       "       [470.9748 ],\n",
       "       [463.17282],\n",
       "       [502.48224],\n",
       "       [460.60626],\n",
       "       [451.05853],\n",
       "       [484.62668],\n",
       "       [458.24506],\n",
       "       [601.3166 ],\n",
       "       [652.6444 ],\n",
       "       [752.87976],\n",
       "       [775.432  ],\n",
       "       [815.2906 ],\n",
       "       [549.8491 ]], dtype=float32)"
      ]
     },
     "execution_count": 266,
     "metadata": {},
     "output_type": "execute_result"
    }
   ],
   "source": [
    "p"
   ]
  },
  {
   "cell_type": "code",
   "execution_count": 213,
   "metadata": {},
   "outputs": [
    {
     "data": {
      "text/plain": [
       "(19, 1)"
      ]
     },
     "execution_count": 213,
     "metadata": {},
     "output_type": "execute_result"
    }
   ],
   "source": [
    "p.shape"
   ]
  },
  {
   "cell_type": "code",
   "execution_count": 214,
   "metadata": {},
   "outputs": [],
   "source": [
    "pred=pd.DataFrame(p,columns=[\"High\"])"
   ]
  },
  {
   "cell_type": "code",
   "execution_count": 215,
   "metadata": {},
   "outputs": [
    {
     "data": {
      "text/html": [
       "<div>\n",
       "<style scoped>\n",
       "    .dataframe tbody tr th:only-of-type {\n",
       "        vertical-align: middle;\n",
       "    }\n",
       "\n",
       "    .dataframe tbody tr th {\n",
       "        vertical-align: top;\n",
       "    }\n",
       "\n",
       "    .dataframe thead th {\n",
       "        text-align: right;\n",
       "    }\n",
       "</style>\n",
       "<table border=\"1\" class=\"dataframe\">\n",
       "  <thead>\n",
       "    <tr style=\"text-align: right;\">\n",
       "      <th></th>\n",
       "      <th>High</th>\n",
       "    </tr>\n",
       "  </thead>\n",
       "  <tbody>\n",
       "    <tr>\n",
       "      <td>0</td>\n",
       "      <td>789.704468</td>\n",
       "    </tr>\n",
       "    <tr>\n",
       "      <td>1</td>\n",
       "      <td>791.402039</td>\n",
       "    </tr>\n",
       "    <tr>\n",
       "      <td>2</td>\n",
       "      <td>794.527344</td>\n",
       "    </tr>\n",
       "    <tr>\n",
       "      <td>3</td>\n",
       "      <td>807.953186</td>\n",
       "    </tr>\n",
       "    <tr>\n",
       "      <td>4</td>\n",
       "      <td>810.027588</td>\n",
       "    </tr>\n",
       "    <tr>\n",
       "      <td>5</td>\n",
       "      <td>809.185852</td>\n",
       "    </tr>\n",
       "    <tr>\n",
       "      <td>6</td>\n",
       "      <td>808.203796</td>\n",
       "    </tr>\n",
       "    <tr>\n",
       "      <td>7</td>\n",
       "      <td>807.442139</td>\n",
       "    </tr>\n",
       "    <tr>\n",
       "      <td>8</td>\n",
       "      <td>811.280090</td>\n",
       "    </tr>\n",
       "    <tr>\n",
       "      <td>9</td>\n",
       "      <td>807.191589</td>\n",
       "    </tr>\n",
       "    <tr>\n",
       "      <td>10</td>\n",
       "      <td>806.259705</td>\n",
       "    </tr>\n",
       "    <tr>\n",
       "      <td>11</td>\n",
       "      <td>809.536560</td>\n",
       "    </tr>\n",
       "    <tr>\n",
       "      <td>12</td>\n",
       "      <td>806.961121</td>\n",
       "    </tr>\n",
       "    <tr>\n",
       "      <td>13</td>\n",
       "      <td>820.937561</td>\n",
       "    </tr>\n",
       "    <tr>\n",
       "      <td>14</td>\n",
       "      <td>825.957642</td>\n",
       "    </tr>\n",
       "    <tr>\n",
       "      <td>15</td>\n",
       "      <td>835.768921</td>\n",
       "    </tr>\n",
       "    <tr>\n",
       "      <td>16</td>\n",
       "      <td>837.977295</td>\n",
       "    </tr>\n",
       "    <tr>\n",
       "      <td>17</td>\n",
       "      <td>841.880676</td>\n",
       "    </tr>\n",
       "    <tr>\n",
       "      <td>18</td>\n",
       "      <td>815.906982</td>\n",
       "    </tr>\n",
       "  </tbody>\n",
       "</table>\n",
       "</div>"
      ],
      "text/plain": [
       "          High\n",
       "0   789.704468\n",
       "1   791.402039\n",
       "2   794.527344\n",
       "3   807.953186\n",
       "4   810.027588\n",
       "5   809.185852\n",
       "6   808.203796\n",
       "7   807.442139\n",
       "8   811.280090\n",
       "9   807.191589\n",
       "10  806.259705\n",
       "11  809.536560\n",
       "12  806.961121\n",
       "13  820.937561\n",
       "14  825.957642\n",
       "15  835.768921\n",
       "16  837.977295\n",
       "17  841.880676\n",
       "18  815.906982"
      ]
     },
     "execution_count": 215,
     "metadata": {},
     "output_type": "execute_result"
    }
   ],
   "source": [
    "pred"
   ]
  },
  {
   "cell_type": "code",
   "execution_count": 216,
   "metadata": {},
   "outputs": [],
   "source": [
    "pred.to_csv(\"pred.csv\",index=False)"
   ]
  },
  {
   "cell_type": "code",
   "execution_count": null,
   "metadata": {},
   "outputs": [],
   "source": []
  }
 ],
 "metadata": {
  "kernelspec": {
   "display_name": "Python 3",
   "language": "python",
   "name": "python3"
  },
  "language_info": {
   "codemirror_mode": {
    "name": "ipython",
    "version": 3
   },
   "file_extension": ".py",
   "mimetype": "text/x-python",
   "name": "python",
   "nbconvert_exporter": "python",
   "pygments_lexer": "ipython3",
   "version": "3.7.3"
  }
 },
 "nbformat": 4,
 "nbformat_minor": 2
}
